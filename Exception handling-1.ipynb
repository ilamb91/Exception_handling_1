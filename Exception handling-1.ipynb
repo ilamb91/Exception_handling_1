{
 "cells": [
  {
   "cell_type": "markdown",
   "id": "b2378bd8-2ef6-4ef1-a414-8b199540f40f",
   "metadata": {},
   "source": [
    "Q1. What is an Exception in python? Write the difference between Exception and Syntax errors."
   ]
  },
  {
   "cell_type": "markdown",
   "id": "956f7c61-825a-4487-b37d-b69eb6ba2f0f",
   "metadata": {},
   "source": [
    "A1. What is Exception? An exception is an event, which occurs during the execution of a program that disrupts the normal flow of the program's instructions. In general, when a Python script encounters a situation that it cannot cope with, it raises an exception. An exception is a Python object that represents an error.\n",
    "Errors are the problems in a program due to which the program will stop the execution. On the other hand, exceptions are raised when some internal events occur which changes the normal flow of the program."
   ]
  },
  {
   "cell_type": "code",
   "execution_count": 1,
   "id": "5f5be2f9-92fe-4b0c-8d32-56055f692eb6",
   "metadata": {},
   "outputs": [
    {
     "ename": "SyntaxError",
     "evalue": "expected ':' (2388056025.py, line 3)",
     "output_type": "error",
     "traceback": [
      "\u001b[0;36m  Cell \u001b[0;32mIn[1], line 3\u001b[0;36m\u001b[0m\n\u001b[0;31m    if(amount>2999)\u001b[0m\n\u001b[0m                   ^\u001b[0m\n\u001b[0;31mSyntaxError\u001b[0m\u001b[0;31m:\u001b[0m expected ':'\n"
     ]
    }
   ],
   "source": [
    "#Syntax error\n",
    "amount = 10000\n",
    "if(amount>2999)\n",
    "    print(\"You are eligible to purchase\")"
   ]
  },
  {
   "cell_type": "code",
   "execution_count": 2,
   "id": "5669b135-40a5-4994-b92b-6896e513a092",
   "metadata": {},
   "outputs": [
    {
     "ename": "ZeroDivisionError",
     "evalue": "division by zero",
     "output_type": "error",
     "traceback": [
      "\u001b[0;31m---------------------------------------------------------------------------\u001b[0m",
      "\u001b[0;31mZeroDivisionError\u001b[0m                         Traceback (most recent call last)",
      "Cell \u001b[0;32mIn[2], line 3\u001b[0m\n\u001b[1;32m      1\u001b[0m \u001b[38;5;66;03m#Exception\u001b[39;00m\n\u001b[1;32m      2\u001b[0m marks \u001b[38;5;241m=\u001b[39m \u001b[38;5;241m10000\u001b[39m\n\u001b[0;32m----> 3\u001b[0m a \u001b[38;5;241m=\u001b[39m \u001b[43mmarks\u001b[49m\u001b[43m \u001b[49m\u001b[38;5;241;43m/\u001b[39;49m\u001b[43m \u001b[49m\u001b[38;5;241;43m0\u001b[39;49m\n\u001b[1;32m      4\u001b[0m \u001b[38;5;28mprint\u001b[39m(a)\n",
      "\u001b[0;31mZeroDivisionError\u001b[0m: division by zero"
     ]
    }
   ],
   "source": [
    "#Exception\n",
    "marks = 10000\n",
    "a = marks / 0\n",
    "print(a)"
   ]
  },
  {
   "cell_type": "markdown",
   "id": "a2c267f5-866d-471d-a9ac-111b46790061",
   "metadata": {},
   "source": [
    "Q2 : What happens when an exception is not handled? Explain with an example."
   ]
  },
  {
   "cell_type": "markdown",
   "id": "39a37417-55fe-4fd0-914a-7d948f68e709",
   "metadata": {},
   "source": [
    "A2. exceptions can be caught and handled like any other exception using the try-except statement, but if not handled, they will terminate the program and produce a traceback."
   ]
  },
  {
   "cell_type": "code",
   "execution_count": 7,
   "id": "10c7b7e9-8936-4a1f-a050-8c9949081060",
   "metadata": {},
   "outputs": [
    {
     "name": "stdout",
     "output_type": "stream",
     "text": [
      "Written content in the file successfully\n"
     ]
    }
   ],
   "source": [
    "try:\n",
    "    a = open(\"testfile\", \"w\")\n",
    "    a.write(\"This is my test file for exception handling!!\")\n",
    "except IOError:\n",
    "    print (\"Error: can\\'t find file or read data\")\n",
    "else:\n",
    "    print (\"Written content in the file successfully\")\n",
    "    a.close()"
   ]
  },
  {
   "cell_type": "markdown",
   "id": "d42f582b-c77d-4d4b-8443-baf1af0366cd",
   "metadata": {},
   "source": [
    "Q3 : Which Python statements are used to catch and handle exceptions? Explain with an example."
   ]
  },
  {
   "cell_type": "markdown",
   "id": "aa126aa2-4db2-42c6-b805-2053ebc12dc6",
   "metadata": {},
   "source": [
    "A3 : The try and except block in Python is used to catch and handle exceptions."
   ]
  },
  {
   "cell_type": "code",
   "execution_count": 8,
   "id": "4766635a-6002-4c6e-9019-e297e857d7cc",
   "metadata": {},
   "outputs": [
    {
     "name": "stdout",
     "output_type": "stream",
     "text": [
      "Sorry ! You are dividing by zero \n"
     ]
    }
   ],
   "source": [
    "def divide(x, y):\n",
    "    try:\n",
    "        result = x // y\n",
    "        print(\"Your answer is :\", result)\n",
    "    except ZeroDivisionError:\n",
    "        print(\"Sorry ! You are dividing by zero \")\n",
    "divide(3, 0)"
   ]
  },
  {
   "cell_type": "markdown",
   "id": "4ca1bf98-da76-44e2-831d-fa155b43c15d",
   "metadata": {},
   "source": [
    "Q4 : Explain with an example:\n",
    "a. try and else\n",
    "b. finally\n",
    "c. raise"
   ]
  },
  {
   "cell_type": "markdown",
   "id": "11245ebd-3ba8-47a7-9f1f-94b496d4a3c5",
   "metadata": {},
   "source": [
    "A4 : Try: This block will test the excepted error to occur\n",
    "Except:  Here you can handle the error.\n",
    "Else: If there is no exception then this block will be executed.\n",
    "Finally: Finally block always gets executed either exception is generated or not."
   ]
  },
  {
   "cell_type": "code",
   "execution_count": 9,
   "id": "da69e31e-bdcc-4ad3-a524-ad3af5033bf9",
   "metadata": {},
   "outputs": [
    {
     "name": "stdout",
     "output_type": "stream",
     "text": [
      "Your answer is : 1\n",
      "This is always executed\n",
      "You are dividing by zero\n",
      "This is always executed\n"
     ]
    }
   ],
   "source": [
    "def divide(x, y):\n",
    "    try:\n",
    "        result = x // y\n",
    "    except ZeroDivisionError:\n",
    "        print(\"You are dividing by zero\")\n",
    "    else:\n",
    "        print(\"Your answer is :\", result)\n",
    "    finally:\n",
    "        print('This is always executed')\n",
    "divide(3, 2)\n",
    "divide(3, 0)"
   ]
  },
  {
   "cell_type": "markdown",
   "id": "d6df5bb9-39e6-4b04-b9a2-2c40522f70ae",
   "metadata": {},
   "source": [
    "Q5. What are Custom Exceptions in python? Why do we need Custom Exceptions? Explain with an example."
   ]
  },
  {
   "cell_type": "markdown",
   "id": "02dc295d-9d41-4a63-a9e5-c2a4c5ca90c0",
   "metadata": {},
   "source": [
    "A5. Having custom exceptions - tailored to your specific use cases and that you can raise and catch in specific circumstances - can make your code much more readable and robust, and reduce the amount of code you write later to try and figure out what exactly went wrong."
   ]
  },
  {
   "cell_type": "code",
   "execution_count": 14,
   "id": "dce3c43c-a9e8-48e8-a783-7de865000716",
   "metadata": {},
   "outputs": [
    {
     "name": "stdout",
     "output_type": "stream",
     "text": [
      "Exception occurred:  6\n"
     ]
    }
   ],
   "source": [
    "class MyError(Exception):\n",
    " \n",
    "    def __init__(self, value):\n",
    "        self.value = value\n",
    " \n",
    "    def __str__(self):\n",
    "        return(repr(self.value))\n",
    " \n",
    " \n",
    "try:\n",
    "    raise(MyError(3*2))\n",
    " \n",
    "except MyError as error:\n",
    "    print('Exception occurred: ', error.value)"
   ]
  },
  {
   "cell_type": "code",
   "execution_count": null,
   "id": "3f9182c7-657e-4e92-a631-27f9b2e78fdf",
   "metadata": {},
   "outputs": [],
   "source": []
  }
 ],
 "metadata": {
  "kernelspec": {
   "display_name": "Python 3 (ipykernel)",
   "language": "python",
   "name": "python3"
  },
  "language_info": {
   "codemirror_mode": {
    "name": "ipython",
    "version": 3
   },
   "file_extension": ".py",
   "mimetype": "text/x-python",
   "name": "python",
   "nbconvert_exporter": "python",
   "pygments_lexer": "ipython3",
   "version": "3.10.8"
  }
 },
 "nbformat": 4,
 "nbformat_minor": 5
}
